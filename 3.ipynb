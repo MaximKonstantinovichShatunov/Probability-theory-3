{
 "cells": [
  {
   "cell_type": "markdown",
   "metadata": {},
   "source": [
    "На соревновании по биатлону один из трех спортсменов стреляет и попадает в мишень. Вероятность попадания для первого спортсмена равна 0.9, для второго — 0.8, для третьего — 0.6. Найти вероятность того, что выстрел произведен: a). первым спортсменом б). вторым спортсменом в). третьим спортсменом.\n",
    "P (B│A)=(P(A│B)∗P(B))/(P(A))\n",
    "P(A) = P(𝐵_1)∗𝑃(𝐴│𝐵_1 )+𝑃(𝐵_2 )∗𝑃(𝐴│𝐵_2 )+𝑃(𝐵_3 )∗𝑃(𝐴│𝐵_3 )\n"
   ]
  },
  {
   "cell_type": "code",
   "execution_count": 3,
   "metadata": {},
   "outputs": [
    {
     "data": {
      "text/plain": [
       "(0.391304347826087, 0.3478260869565218, 0.2608695652173913)"
      ]
     },
     "execution_count": 3,
     "metadata": {},
     "output_type": "execute_result"
    }
   ],
   "source": [
    "b1=0.9\n",
    "b2=0.8\n",
    "b3=0.6\n",
    "pb1=pb2=pb3=0.3333333\n",
    "pa=pb1*b1+pb2*b2+pb3*b3\n",
    "p1=b1*pb1/pa\n",
    "p2=b2*pb1/pa\n",
    "p3=b3*pb1/pa\n",
    "p1,p2,p3\n"
   ]
  }
 ],
 "metadata": {
  "kernelspec": {
   "display_name": "Python 3.7.9 64-bit (microsoft store)",
   "language": "python",
   "name": "python3"
  },
  "language_info": {
   "codemirror_mode": {
    "name": "ipython",
    "version": 3
   },
   "file_extension": ".py",
   "mimetype": "text/x-python",
   "name": "python",
   "nbconvert_exporter": "python",
   "pygments_lexer": "ipython3",
   "version": "3.7.9"
  },
  "orig_nbformat": 4,
  "vscode": {
   "interpreter": {
    "hash": "e593f02a5728fa750833a73677833482cfec348bfeb031cfd0c36dbe6821e2c6"
   }
  }
 },
 "nbformat": 4,
 "nbformat_minor": 2
}
